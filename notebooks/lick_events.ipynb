{
 "cells": [
  {
   "attachments": {},
   "cell_type": "markdown",
   "id": "843324f9",
   "metadata": {},
   "source": [
    "# Lick events"
   ]
  },
  {
   "attachments": {},
   "cell_type": "markdown",
   "id": "890e52f8",
   "metadata": {},
   "source": [
    "*Imports and data_folder access*"
   ]
  },
  {
   "cell_type": "code",
   "execution_count": 11,
   "id": "620a4583-d8b0-433d-99c1-26878a9b8f11",
   "metadata": {},
   "outputs": [],
   "source": [
    "import pickle\n",
    "import numpy as np\n",
    "from pathlib import Path\n",
    "import glob\n",
    "import pandas as pd\n",
    "import matplotlib.pyplot as plt\n",
    "\n",
    "# switch the path to represent the correct directory when switching devices and fetch the latest repo from github\n",
    "# Marc_PC\n",
    "data_folder_1 = Path(r\"C:\\Users\\marc_\\OneDrive\\Documents\\Studie\\Master\\Master Internship 1 Neurophysics\\Project-collective-cortical-dynamics-with-non-linear-dimensionality-reduction\\data\")\n",
    "data_folder_2 = Path(r\"Z:\\davide\\2p_data\\441394_ribolla\")\n",
    "data_folder_3 = Path(r\"Z:\\davide\\2p_data\\441406_fiano\")\n",
    "\n",
    "# Amber_laptop\n",
    "#data_folder_1 = Path(r\"C:\\Users\\renek\\OneDrive\\Documenten\\Marc Studiemap\\Master Internship 1\\Project-collective-cortical-dynamics-with-non-linear-dimensionality-reduction\\data\")\n",
    "#data_folder_2 = Path(r\"Z:\\davide\\2p_data\\441394_ribolla\")\n",
    "#data_folder_3 = Path(r\"Z:\\davide\\2p_data\\441406_fiano\")"
   ]
  },
  {
   "cell_type": "code",
   "execution_count": 12,
   "id": "8bd0cd9b-205d-4383-9488-db6ef940d781",
   "metadata": {},
   "outputs": [],
   "source": [
    "# Path to where the data is on your machine.\n",
    "data_path_1 = data_folder_1.joinpath('20230211')\n",
    "\n",
    "# ribolla files\n",
    "data_path_2 = data_folder_2.joinpath('20230315')\n",
    "data_path_3 = data_folder_2.joinpath('20230324')\n",
    "data_path_4 = data_folder_2.joinpath('20230331')\n",
    "data_path_5 = data_folder_2.joinpath('20230404')\n",
    "data_path_6 = data_folder_2.joinpath('20230405')\n",
    "\n",
    "# fiano files\n",
    "data_path_7 = data_folder_3.joinpath('20230309')\n",
    "data_path_8 = data_folder_3.joinpath('20230317')\n",
    "data_path_9 = data_folder_3.joinpath('20230323')\n",
    "data_path_10 = data_folder_3.joinpath('20230328')\n",
    "data_path_11 = data_folder_3.joinpath('20230331')\n",
    "\n",
    "# Create a list to store all the data paths\n",
    "all_data_paths = [\n",
    "    data_path_1,\n",
    "    data_path_2,\n",
    "    data_path_3,\n",
    "    data_path_4,\n",
    "    data_path_5,\n",
    "    data_path_6,\n",
    "    data_path_7,\n",
    "    data_path_8,\n",
    "    data_path_9,\n",
    "    data_path_10,\n",
    "    data_path_11\n",
    "]"
   ]
  },
  {
   "cell_type": "code",
   "execution_count": 86,
   "id": "1e6d0a18-38cc-4986-898d-29b631654dcd",
   "metadata": {
    "tags": []
   },
   "outputs": [
    {
     "data": {
      "text/plain": [
       "['Z:\\\\davide\\\\2p_data\\\\441406_fiano\\\\20230331\\\\behaviour_data.pickle',\n",
       " 'Z:\\\\davide\\\\2p_data\\\\441406_fiano\\\\20230331\\\\cnmf.hdf5',\n",
       " 'Z:\\\\davide\\\\2p_data\\\\441406_fiano\\\\20230331\\\\decoded_log.mat',\n",
       " 'Z:\\\\davide\\\\2p_data\\\\441406_fiano\\\\20230331\\\\metrics.pickle',\n",
       " 'Z:\\\\davide\\\\2p_data\\\\441406_fiano\\\\20230331\\\\neural_data.pickle',\n",
       " 'Z:\\\\davide\\\\2p_data\\\\441406_fiano\\\\20230331\\\\parameters.yml',\n",
       " 'Z:\\\\davide\\\\2p_data\\\\441406_fiano\\\\20230331\\\\tif_header.pickle',\n",
       " 'Z:\\\\davide\\\\2p_data\\\\441406_fiano\\\\20230331\\\\trial_data.csv']"
      ]
     },
     "execution_count": 86,
     "metadata": {},
     "output_type": "execute_result"
    }
   ],
   "source": [
    "import sys\n",
    "sys.path.append('../src') # Add src folder to path.\n",
    "import file_management as fm # Import my file_management functions from /src.\n",
    "\n",
    "selected_data_session = all_data_paths[1] # select one of the sessions! 0-10\n",
    "fm.get_files_in_data_path(selected_data_session)"
   ]
  },
  {
   "cell_type": "code",
   "execution_count": 87,
   "id": "3b417092",
   "metadata": {},
   "outputs": [
    {
     "data": {
      "text/plain": [
       "WindowsPath('Z:/davide/2p_data/441406_fiano/20230331')"
      ]
     },
     "execution_count": 87,
     "metadata": {},
     "output_type": "execute_result"
    }
   ],
   "source": [
    "selected_data_session"
   ]
  },
  {
   "cell_type": "code",
   "execution_count": 88,
   "id": "715cd6ba",
   "metadata": {},
   "outputs": [
    {
     "name": "stdout",
     "output_type": "stream",
     "text": [
      "['behaviour_data.pickle', 'cnmf.hdf5', 'decoded_log.mat', 'metrics.pickle', 'neural_data.pickle', 'parameters.yml', 'tif_header.pickle', 'trial_data.csv']\n"
     ]
    }
   ],
   "source": [
    "import os\n",
    "\n",
    "# List all the files in the selected data session\n",
    "files = os.listdir(selected_data_session)\n",
    "print(files)"
   ]
  },
  {
   "attachments": {},
   "cell_type": "markdown",
   "id": "b95ea778",
   "metadata": {},
   "source": [
    "# Goal 1: reward licks, fraction of licks during reward presentation, eventplot of licks\n",
    "1. isolate the reward presentation for each trial. Find the number of licks that happened between the reward presentation and two seconds (2000 frames) after.\n",
    "2. use eventplot to plot the licks for each trial on the same plot (x axis: time, y axis: trial)\n",
    "\n",
    "This will tell us if there is a change in licking patterns during the course of the trial"
   ]
  },
  {
   "attachments": {},
   "cell_type": "markdown",
   "id": "5a845fa8",
   "metadata": {},
   "source": [
    "*Trial Matrix*"
   ]
  },
  {
   "cell_type": "code",
   "execution_count": 89,
   "id": "70ab860b",
   "metadata": {},
   "outputs": [],
   "source": [
    "# Update the trial_data_file and read the CSV file (accessing a specific file within the selected data session)\n",
    "trial_data_file = selected_data_session.joinpath('trial_data.csv')\n",
    "trial_data = pd.read_csv(trial_data_file)\n",
    "#trial_data"
   ]
  },
  {
   "attachments": {},
   "cell_type": "markdown",
   "id": "07d69b9b",
   "metadata": {},
   "source": [
    "*Behavioural Data*"
   ]
  },
  {
   "cell_type": "code",
   "execution_count": 90,
   "id": "6f2b5645",
   "metadata": {},
   "outputs": [],
   "source": [
    "# Load behavioural data.\n",
    "bdata_file = selected_data_session.joinpath('behaviour_data.pickle')\n",
    "with open(bdata_file,'rb') as file:\n",
    "    b_data = pickle.load(file)"
   ]
  },
  {
   "cell_type": "code",
   "execution_count": 91,
   "id": "1dc0faaf",
   "metadata": {},
   "outputs": [],
   "source": [
    "import sys\n",
    "sys.path.append('../src') # Add src folder to path.\n",
    "\n",
    "import lick_analysis as la # Import my lick analysis functions from /src."
   ]
  },
  {
   "cell_type": "code",
   "execution_count": 92,
   "id": "9377e928",
   "metadata": {},
   "outputs": [
    {
     "name": "stdout",
     "output_type": "stream",
     "text": [
      "Number of licks during reward window: 395\n",
      "Fraction of licks at reward onset: 26.072607260726073\n"
     ]
    }
   ],
   "source": [
    "# Call the function and print the results.\n",
    "lick_count, reward_fraction = la.lick_counter(trial_data, b_data)\n",
    "print(\"Number of licks during reward window:\", lick_count)\n",
    "print(\"Fraction of licks at reward onset:\", reward_fraction)"
   ]
  },
  {
   "cell_type": "code",
   "execution_count": 93,
   "id": "1951e9f6",
   "metadata": {},
   "outputs": [
    {
     "name": "stdout",
     "output_type": "stream",
     "text": [
      "395\n",
      "0.2607260726072607\n"
     ]
    },
    {
     "data": {
      "image/png": "[encoded data removed]",
      "text/plain": [
       "<Figure size 640x480 with 1 Axes>"
      ]
     },
     "metadata": {},
     "output_type": "display_data"
    }
   ],
   "source": [
    "save_folder = Path(r\"C:\\Users\\marc_\\OneDrive\\Documents\\Studie\\Master\\Master Internship 1 Neurophysics\\Project-collective-cortical-dynamics-with-non-linear-dimensionality-reduction\\plots\\lick_eventplots\")\n",
    "la.lick_eventplot(trial_data, b_data, selected_data_session, save_folder)"
   ]
  }
 ],
 "metadata": {
  "kernelspec": {
   "display_name": "base",
   "language": "python",
   "name": "python3"
  },
  "language_info": {
   "codemirror_mode": {
    "name": "ipython",
    "version": 3
   },
   "file_extension": ".py",
   "mimetype": "text/x-python",
   "name": "python",
   "nbconvert_exporter": "python",
   "pygments_lexer": "ipython3",
   "version": "3.9.13"
  },
  "vscode": {
   "interpreter": {
    "hash": "1dbcccb42249cdf2530770c93de837603865504641f1a37d8fbb6967c90805bd"
   }
  }
 },
 "nbformat": 4,
 "nbformat_minor": 5
}
