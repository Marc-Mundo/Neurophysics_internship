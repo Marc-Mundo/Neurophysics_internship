{
 "cells": [
  {
   "attachments": {},
   "cell_type": "markdown",
   "id": "843324f9",
   "metadata": {},
   "source": [
    "# Lick events"
   ]
  },
  {
   "attachments": {},
   "cell_type": "markdown",
   "id": "890e52f8",
   "metadata": {},
   "source": [
    "*Imports and data_folder access*"
   ]
  },
  {
   "cell_type": "code",
   "execution_count": 1,
   "id": "620a4583-d8b0-433d-99c1-26878a9b8f11",
   "metadata": {},
   "outputs": [],
   "source": [
    "import pickle\n",
    "import numpy as np\n",
    "from pathlib import Path\n",
    "import glob\n",
    "import pandas as pd\n",
    "import matplotlib.pyplot as plt\n",
    "\n",
    "# switch the path to represent the correct directory when switching devices and fetch the latest repo from github\n",
    "# Marc_PC\n",
    "data_folder_1 = Path(r\"C:\\Users\\marc_\\OneDrive\\Documents\\Studie\\Master\\Master Internship 1 Neurophysics\\Project-collective-cortical-dynamics-with-non-linear-dimensionality-reduction\\data\")\n",
    "data_folder_2 = Path(r\"Z:\\davide\\2p_data\\441394_ribolla\")\n",
    "data_folder_3 = Path(r\"Z:\\davide\\2p_data\\441406_fiano\")\n",
    "\n",
    "# Amber_laptop\n",
    "#data_folder_1 = Path(r\"C:\\Users\\renek\\OneDrive\\Documenten\\Marc Studiemap\\Master Internship 1\\Project-collective-cortical-dynamics-with-non-linear-dimensionality-reduction\\data\")\n",
    "#data_folder_2 = Path(r\"Z:\\davide\\2p_data\\441394_ribolla\")\n",
    "#data_folder_3 = Path(r\"Z:\\davide\\2p_data\\441406_fiano\")"
   ]
  },
  {
   "cell_type": "code",
   "execution_count": 2,
   "id": "8bd0cd9b-205d-4383-9488-db6ef940d781",
   "metadata": {},
   "outputs": [],
   "source": [
    "# Path to where the data is on your machine.\n",
    "data_path_1 = data_folder_1.joinpath('20230211')\n",
    "\n",
    "# ribolla files\n",
    "data_path_2 = data_folder_2.joinpath('20230315')\n",
    "data_path_3 = data_folder_2.joinpath('20230324')\n",
    "data_path_4 = data_folder_2.joinpath('20230331')\n",
    "data_path_5 = data_folder_2.joinpath('20230404')\n",
    "data_path_6 = data_folder_2.joinpath('20230405')\n",
    "\n",
    "# fiano files\n",
    "data_path_7 = data_folder_3.joinpath('20230309')\n",
    "data_path_8 = data_folder_3.joinpath('20230317')\n",
    "data_path_9 = data_folder_3.joinpath('20230323')\n",
    "data_path_10 = data_folder_3.joinpath('20230328')\n",
    "data_path_11 = data_folder_3.joinpath('20230331')\n",
    "\n",
    "# Create a list to store all the data paths\n",
    "all_data_paths = [\n",
    "    data_path_1,\n",
    "    data_path_2,\n",
    "    data_path_3,\n",
    "    data_path_4,\n",
    "    data_path_5,\n",
    "    data_path_6,\n",
    "    data_path_7,\n",
    "    data_path_8,\n",
    "    data_path_9,\n",
    "    data_path_10,\n",
    "    data_path_11\n",
    "]"
   ]
  },
  {
   "cell_type": "code",
   "execution_count": 3,
   "id": "1e6d0a18-38cc-4986-898d-29b631654dcd",
   "metadata": {
    "tags": []
   },
   "outputs": [
    {
     "data": {
      "text/plain": [
       "['Z:\\\\davide\\\\2p_data\\\\441394_ribolla\\\\20230315\\\\behaviour_data.pickle',\n",
       " 'Z:\\\\davide\\\\2p_data\\\\441394_ribolla\\\\20230315\\\\cnmf.hdf5',\n",
       " 'Z:\\\\davide\\\\2p_data\\\\441394_ribolla\\\\20230315\\\\decoded_log.mat',\n",
       " 'Z:\\\\davide\\\\2p_data\\\\441394_ribolla\\\\20230315\\\\metrics.pickle',\n",
       " 'Z:\\\\davide\\\\2p_data\\\\441394_ribolla\\\\20230315\\\\neural_data.pickle',\n",
       " 'Z:\\\\davide\\\\2p_data\\\\441394_ribolla\\\\20230315\\\\parameters.yml',\n",
       " 'Z:\\\\davide\\\\2p_data\\\\441394_ribolla\\\\20230315\\\\tif_header.pickle',\n",
       " 'Z:\\\\davide\\\\2p_data\\\\441394_ribolla\\\\20230315\\\\trial_data.csv']"
      ]
     },
     "execution_count": 3,
     "metadata": {},
     "output_type": "execute_result"
    }
   ],
   "source": [
    "import sys\n",
    "sys.path.append('../src') # Add src folder to path.\n",
    "import file_management as fm # Import my file_management functions from /src.\n",
    "\n",
    "selected_data_session = all_data_paths[1] # select one of the sessions! 0-10\n",
    "fm.get_files_in_data_path(selected_data_session)"
   ]
  },
  {
   "cell_type": "code",
   "execution_count": 4,
   "id": "3b417092",
   "metadata": {},
   "outputs": [
    {
     "data": {
      "text/plain": [
       "WindowsPath('Z:/davide/2p_data/441394_ribolla/20230315')"
      ]
     },
     "execution_count": 4,
     "metadata": {},
     "output_type": "execute_result"
    }
   ],
   "source": [
    "selected_data_session"
   ]
  },
  {
   "cell_type": "code",
   "execution_count": 5,
   "id": "715cd6ba",
   "metadata": {},
   "outputs": [
    {
     "name": "stdout",
     "output_type": "stream",
     "text": [
      "['behaviour_data.pickle', 'cnmf.hdf5', 'decoded_log.mat', 'metrics.pickle', 'neural_data.pickle', 'parameters.yml', 'tif_header.pickle', 'trial_data.csv']\n"
     ]
    }
   ],
   "source": [
    "import os\n",
    "\n",
    "# List all the files in the selected data session\n",
    "files = os.listdir(selected_data_session)\n",
    "print(files)"
   ]
  },
  {
   "attachments": {},
   "cell_type": "markdown",
   "id": "b95ea778",
   "metadata": {},
   "source": [
    "# Goal 1: reward licks, fraction of licks during reward presentation, eventplot of licks\n",
    "1. isolate the reward presentation for each trial. Find the number of licks that happened between the reward presentation and two seconds (2000 frames) after.\n",
    "2. use eventplot to plot the licks for each trial on the same plot (x axis: time, y axis: trial)\n",
    "\n",
    "This will tell us if there is a change in licking patterns during the course of the trial"
   ]
  },
  {
   "attachments": {},
   "cell_type": "markdown",
   "id": "5a845fa8",
   "metadata": {},
   "source": [
    "*Trial Matrix*"
   ]
  },
  {
   "cell_type": "code",
   "execution_count": 6,
   "id": "70ab860b",
   "metadata": {},
   "outputs": [],
   "source": [
    "# Update the trial_data_file and read the CSV file (accessing a specific file within the selected data session)\n",
    "trial_data_file = selected_data_session.joinpath('trial_data.csv')\n",
    "trial_data = pd.read_csv(trial_data_file)\n",
    "#trial_data"
   ]
  },
  {
   "attachments": {},
   "cell_type": "markdown",
   "id": "07d69b9b",
   "metadata": {},
   "source": [
    "*Behavioural Data*"
   ]
  },
  {
   "cell_type": "code",
   "execution_count": 7,
   "id": "6f2b5645",
   "metadata": {},
   "outputs": [],
   "source": [
    "# Load behavioural data.\n",
    "bdata_file = selected_data_session.joinpath('behaviour_data.pickle')\n",
    "with open(bdata_file,'rb') as file:\n",
    "    b_data = pickle.load(file)"
   ]
  },
  {
   "cell_type": "code",
   "execution_count": 8,
   "id": "1dc0faaf",
   "metadata": {},
   "outputs": [],
   "source": [
    "import sys\n",
    "sys.path.append('../src') # Add src folder to path.\n",
    "\n",
    "import lick_analysis as la # Import my lick analysis functions from /src."
   ]
  },
  {
   "cell_type": "code",
   "execution_count": 9,
   "id": "9377e928",
   "metadata": {},
   "outputs": [
    {
     "name": "stdout",
     "output_type": "stream",
     "text": [
      "Number of licks during reward window: 216\n",
      "Fraction of licks at reward onset: 25.0\n"
     ]
    }
   ],
   "source": [
    "# Call the function and print the results.\n",
    "lick_count, reward_fraction = la.rz_lick_counter(trial_data, b_data)\n",
    "print(\"Number of licks during reward window:\", lick_count)\n",
    "print(\"Fraction of licks at reward onset:\", reward_fraction)"
   ]
  },
  {
   "cell_type": "code",
   "execution_count": 10,
   "id": "1951e9f6",
   "metadata": {},
   "outputs": [
    {
     "name": "stdout",
     "output_type": "stream",
     "text": [
      "216\n",
      "0.25\n"
     ]
    },
    {
     "data": {
      "image/png": "[encoded data removed]",
      "text/plain": [
       "<Figure size 640x480 with 1 Axes>"
      ]
     },
     "metadata": {},
     "output_type": "display_data"
    },
    {
     "data": {
      "text/plain": [
       "(216,\n",
       " 864,\n",
       " 0.25,\n",
       " [[221, 437, 563, 794, 1072, 1200, 1344, 1631, 1787],\n",
       "  [163, 328, 460, 591, 713, 846, 984, 1112, 1260, 1404],\n",
       "  [376, 515, 634, 762, 889, 1030],\n",
       "  [236, 278, 495, 607, 736],\n",
       "  [219, 385, 498, 600, 849, 971, 1117],\n",
       "  [163, 319, 442, 700, 823, 1480, 1645, 1775],\n",
       "  [260, 370, 475, 592, 838, 961],\n",
       "  [140, 274, 411, 540, 659, 788],\n",
       "  [217, 330, 452, 576, 720, 854, 981, 1128],\n",
       "  [208, 329, 449, 569, 699, 949, 1077, 1211],\n",
       "  [245, 354, 483, 598, 727, 1242],\n",
       "  [173, 272, 388, 520, 639, 776],\n",
       "  [174, 281, 405, 526, 641, 1017],\n",
       "  [17, 138, 252, 376, 513, 630],\n",
       "  [162, 269, 390, 509, 627],\n",
       "  [330, 441, 565, 815, 945, 1078, 1210, 1478],\n",
       "  [183, 306, 451, 549, 685, 1057],\n",
       "  [199, 312, 414, 528, 657],\n",
       "  [168, 289, 514, 625],\n",
       "  [69, 177, 287, 530, 644, 1008],\n",
       "  [295, 403, 517, 752],\n",
       "  [177, 290, 399, 645, 763],\n",
       "  [87, 220, 361, 482, 605, 855],\n",
       "  [195, 311, 423, 538],\n",
       "  [167, 293, 410, 516],\n",
       "  [241, 343, 462, 709, 833, 972],\n",
       "  [205, 642],\n",
       "  [391],\n",
       "  [91, 200, 326, 430, 678, 1642, 1654],\n",
       "  [183, 289, 389, 615, 737, 1950, 1995],\n",
       "  [291, 393],\n",
       "  [92, 207, 329, 439],\n",
       "  [131, 232, 347, 458, 807],\n",
       "  [182, 303, 424, 537, 773],\n",
       "  [211, 338, 449, 572, 1084, 1970],\n",
       "  [194, 332, 505],\n",
       "  [224, 1190, 1226, 1265],\n",
       "  [164, 367],\n",
       "  [313, 425, 1793],\n",
       "  [107, 253, 399, 628, 1597]])"
      ]
     },
     "execution_count": 10,
     "metadata": {},
     "output_type": "execute_result"
    }
   ],
   "source": [
    "save_folder = Path('./imgs/lick_eventplots')\n",
    "la.lick_eventplot(trial_data, b_data, selected_data_session, save_folder)"
   ]
  },
  {
   "cell_type": "code",
   "execution_count": 11,
   "id": "ec7e84ee",
   "metadata": {},
   "outputs": [
    {
     "name": "stdout",
     "output_type": "stream",
     "text": [
      "216\n",
      "0.25\n",
      "267\n",
      "0.47424511545293074\n",
      "433\n",
      "0.4681081081081081\n",
      "395\n",
      "0.1620180475799836\n",
      "349\n",
      "0.4144893111638955\n",
      "31\n",
      "0.15897435897435896\n",
      "183\n",
      "0.19530416221985059\n",
      "282\n",
      "0.09255004922874958\n",
      "12\n",
      "0.011352885525070956\n",
      "395\n",
      "0.2607260726072607\n"
     ]
    },
    {
     "data": {
      "text/plain": [
       "<Figure size 640x480 with 0 Axes>"
      ]
     },
     "metadata": {},
     "output_type": "display_data"
    }
   ],
   "source": [
    "# Create an empty dataframe to store the lick results\n",
    "licks_df = pd.DataFrame(columns=['Session', 'Total licks', 'Reward licks', 'Reward fraction'])\n",
    "\n",
    "for session in all_data_paths[1:]:\n",
    "\n",
    "    trial_data_file = session.joinpath('trial_data.csv')\n",
    "    trial_data = pd.read_csv(trial_data_file)\n",
    "\n",
    "    bdata_file = session.joinpath('behaviour_data.pickle')\n",
    "    with open(bdata_file,'rb') as file:\n",
    "        b_data = pickle.load(file)\n",
    "\n",
    "    # create save folder for lick eventplots\n",
    "    save_folder = Path('./imgs/lick_eventplots')\n",
    "    save_folder.mkdir(exist_ok=True,parents=True)\n",
    "\n",
    "    # Call the function and print the results.\n",
    "    lick_count, total_licks, reward_fraction, reward_licks_list = la.lick_eventplot(trial_data, b_data, selected_data_session, save_folder, show_plot=False)\n",
    "\n",
    "    # Create a temporary dataframe for the licks results of the current session\n",
    "    session_licks_df = pd.DataFrame({\n",
    "        'Session': [str(session)],\n",
    "        'Total licks': [total_licks],\n",
    "        'Reward licks': [lick_count],\n",
    "        'Reward fraction': [reward_fraction],\n",
    "    })\n",
    "\n",
    "    # Append the temporary licks dataframe to the licks dataframe\n",
    "    licks_df = pd.concat([licks_df, session_licks_df], ignore_index=True)\n",
    "\n",
    "    # Create the eventplot.\n",
    "    plt.eventplot(reward_licks_list, lineoffsets=1, linelengths=0.5)\n",
    "\n",
    "    # Add axis labels and title.\n",
    "    plt.xlabel(\"Time (frames), w.r.t reward onset\")\n",
    "    plt.ylabel(\"Trial\")\n",
    "    plt.title(\"Eventplot of Licks per Trial\")\n",
    "\n",
    "    # Get the session number and parent folder from the session path\n",
    "    session_number = os.path.basename(session)\n",
    "    parent_folder = os.path.basename(os.path.dirname(session))\n",
    "\n",
    "    # Concatenate the parent folder and session number\n",
    "    session_name = f\"{parent_folder}_{session_number}\"\n",
    "\n",
    "    # Set the image file name\n",
    "    image_name = f\"{session_name}_lick_event_plot.png\"\n",
    "\n",
    "    # Set the complete save path including the folder and image name\n",
    "    save_path = os.path.join(save_folder, image_name)\n",
    "\n",
    "    # Save the plot as an image file\n",
    "    plt.savefig(save_path)\n",
    "\n",
    "    # Clear the current plot to prepare for the next one\n",
    "    plt.clf()\n"
   ]
  },
  {
   "cell_type": "code",
   "execution_count": 12,
   "id": "bd036e27",
   "metadata": {},
   "outputs": [],
   "source": [
    "# Specify the desired path and filename for licks_df\n",
    "licks_df_output_path = Path('../data/final/lick_stats.csv')\n",
    "\n",
    "# Save the velocity dataframe to a CSV file\n",
    "licks_df.to_csv(licks_df_output_path, index=False)"
   ]
  },
  {
   "cell_type": "code",
   "execution_count": 17,
   "id": "b4d28269",
   "metadata": {},
   "outputs": [
    {
     "data": {
      "image/png": "[encoded data removed]",
      "text/plain": [
       "<Figure size 1200x800 with 1 Axes>"
      ]
     },
     "metadata": {},
     "output_type": "display_data"
    }
   ],
   "source": [
    "# create save folder for lick reward plot\n",
    "save_folder = Path('./imgs/licks_vs_rz_licks')\n",
    "save_folder.mkdir(exist_ok=True,parents=True)\n",
    "\n",
    "# Read the CSV file into a pandas DataFrame\n",
    "df = pd.read_csv('../data/final/lick_stats.csv')\n",
    "\n",
    "# Extract the mouse type and date from the Session column\n",
    "df['Mouse'] = df['Session'].apply(lambda x: x.split('\\\\')[-2])\n",
    "df['Date'] = df['Session'].apply(lambda x: x.split('\\\\')[-1])\n",
    "\n",
    "# Combine the mouse type and date to form the new session names\n",
    "df['Shortened Session'] = df['Mouse'] + '/' + df['Date']\n",
    "\n",
    "# Create Plots\n",
    "plt.figure(figsize=(12, 8))\n",
    "\n",
    "# Plotting Total Licks and Reward Licks as Side-by-Side Bars\n",
    "bar_width = 0.4\n",
    "x_positions = range(len(df))\n",
    "\n",
    "plt.bar(x_positions, df['Total licks'], width=bar_width, label='Total Licks')\n",
    "plt.bar([pos + bar_width for pos in x_positions], df['Reward licks'], width=bar_width, label='Reward Licks')\n",
    "\n",
    "# Adjust x-axis ticks and labels\n",
    "plt.xticks(x_positions, df['Shortened Session'], rotation=45)\n",
    "\n",
    "plt.xlabel('Session')\n",
    "plt.ylabel('Number of Licks')\n",
    "plt.title('Total Licks vs. Reward Licks by Session')\n",
    "plt.legend()\n",
    "plt.grid(True)\n",
    "plt.tight_layout()\n",
    "\n",
    "# Save the plot as a PNG image\n",
    "plt.savefig(save_folder.joinpath('total_vs_reward_licks.png'))\n",
    "\n",
    "plt.show()"
   ]
  }
 ],
 "metadata": {
  "kernelspec": {
   "display_name": "base",
   "language": "python",
   "name": "python3"
  },
  "language_info": {
   "codemirror_mode": {
    "name": "ipython",
    "version": 3
   },
   "file_extension": ".py",
   "mimetype": "text/x-python",
   "name": "python",
   "nbconvert_exporter": "python",
   "pygments_lexer": "ipython3",
   "version": "3.9.13"
  },
  "vscode": {
   "interpreter": {
    "hash": "1dbcccb42249cdf2530770c93de837603865504641f1a37d8fbb6967c90805bd"
   }
  }
 },
 "nbformat": 4,
 "nbformat_minor": 5
}
