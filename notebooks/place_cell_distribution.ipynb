{
 "cells": [
  {
   "attachments": {},
   "cell_type": "markdown",
   "metadata": {},
   "source": [
    "*Boxplot by place cell fraction*"
   ]
  },
  {
   "cell_type": "code",
   "execution_count": 9,
   "metadata": {},
   "outputs": [
    {
     "name": "stdout",
     "output_type": "stream",
     "text": [
      "             count       mean        std       min        25%        50%  \\\n",
      "Environment                                                                \n",
      "1             10.0  27.046542  28.588324  5.072464   8.676832  16.164787   \n",
      "2             10.0  43.686020  26.036406  7.476636  21.398940  45.524638   \n",
      "3             10.0  61.239694  34.986689  1.587302  32.745349  77.708283   \n",
      "\n",
      "                   75%        max  \n",
      "Environment                        \n",
      "1            27.515383  88.446215  \n",
      "2            59.981203  88.666667  \n",
      "3            88.539910  96.456693  \n"
     ]
    },
    {
     "data": {
      "image/png": "[encoded data removed]",
      "text/plain": [
       "<Figure size 640x480 with 1 Axes>"
      ]
     },
     "metadata": {},
     "output_type": "display_data"
    },
    {
     "name": "stdout",
     "output_type": "stream",
     "text": [
      "            Animal  Session Date  Environment  Number of Place Cells  \\\n",
      "0     441406_fiano      20230309            1                     34   \n",
      "18  441394_ribolla      20230324            1                      9   \n",
      "15  441394_ribolla      20230315            1                     11   \n",
      "12    441406_fiano      20230331            1                     47   \n",
      "24  441394_ribolla      20230404            1                     36   \n",
      "9     441406_fiano      20230328            1                    121   \n",
      "21  441394_ribolla      20230331            1                     73   \n",
      "3     441406_fiano      20230317            1                      7   \n",
      "27  441394_ribolla      20230405            1                     18   \n",
      "6     441406_fiano      20230323            1                    222   \n",
      "7     441406_fiano      20230323            2                     99   \n",
      "25  441394_ribolla      20230404            2                    133   \n",
      "22  441394_ribolla      20230331            2                    156   \n",
      "4     441406_fiano      20230317            2                     71   \n",
      "13    441406_fiano      20230331            2                     31   \n",
      "28  441394_ribolla      20230405            2                    103   \n",
      "16  441394_ribolla      20230315            2                     32   \n",
      "1     441406_fiano      20230309            2                    101   \n",
      "19  441394_ribolla      20230324            2                      8   \n",
      "10    441406_fiano      20230328            2                    119   \n",
      "26  441394_ribolla      20230404            3                    138   \n",
      "23  441394_ribolla      20230331            3                    245   \n",
      "14    441406_fiano      20230331            3                    185   \n",
      "17  441394_ribolla      20230315            3                     29   \n",
      "11    441406_fiano      20230328            3                    142   \n",
      "8     441406_fiano      20230323            3                    226   \n",
      "5     441406_fiano      20230317            3                    105   \n",
      "2     441406_fiano      20230309            3                    149   \n",
      "20  441394_ribolla      20230324            3                     28   \n",
      "29  441394_ribolla      20230405            3                      3   \n",
      "\n",
      "     Fraction  \n",
      "0   11.805556  \n",
      "18   8.411215  \n",
      "15   5.789474  \n",
      "12  20.524017  \n",
      "24  23.841060  \n",
      "9   68.361582  \n",
      "21  28.740157  \n",
      "3    5.072464  \n",
      "27   9.473684  \n",
      "6   88.446215  \n",
      "7   39.600000  \n",
      "25  88.666667  \n",
      "22  61.904762  \n",
      "4   51.449275  \n",
      "13  14.027149  \n",
      "28  54.210526  \n",
      "16  16.842105  \n",
      "1   35.069444  \n",
      "19   7.476636  \n",
      "10  67.613636  \n",
      "26  92.000000  \n",
      "23  96.456693  \n",
      "14  82.959641  \n",
      "17  15.425532  \n",
      "11  79.329609  \n",
      "8   90.400000  \n",
      "5   76.086957  \n",
      "2   51.736111  \n",
      "20  26.415094  \n",
      "29   1.587302  \n"
     ]
    }
   ],
   "source": [
    "import pandas as pd\n",
    "import seaborn as sns\n",
    "import matplotlib.pyplot as plt\n",
    "from pathlib import Path\n",
    "\n",
    "output_folder = Path('./imgs')\n",
    "output_folder.mkdir(exist_ok=True,parents=True)\n",
    "\n",
    "save_folder = output_folder.joinpath('place_cell_distribution')\n",
    "save_folder.mkdir(exist_ok=True, parents=True)\n",
    "\n",
    "# Read the CSV file into a DataFrame\n",
    "file_path = Path('../data/final/place_cells.csv')\n",
    "df = pd.read_csv(file_path)\n",
    "\n",
    "# Convert the 'Fraction' column to percentages\n",
    "df['Fraction'] = df['Fraction'] * 100\n",
    "\n",
    "# Create the boxplot using seaborn with 'Fraction' column as 'y'\n",
    "sns.boxplot(x='Environment', y='Fraction', data=df)\n",
    "\n",
    "# Set the labels for the x and y axes\n",
    "plt.xlabel('Environment')\n",
    "plt.ylabel('Fraction of Place Cells (%)')\n",
    "\n",
    "# Calculate the statistical values for each environment\n",
    "statistics = df.groupby('Environment')['Fraction'].describe()\n",
    "\n",
    "# Display the statistics as a table\n",
    "print(statistics)\n",
    "# Save the statistics as a CSV file at the desired location\n",
    "save_path = Path('../data/final/place_cell_boxplot_statistics.csv')\n",
    "statistics.to_csv(save_path)\n",
    "\n",
    "# Save the plot\n",
    "plt.savefig(save_folder.joinpath('place_cell_distribution.png'))\n",
    "\n",
    "# Display the plot\n",
    "plt.show()\n",
    "\n",
    "# Sort the DataFrame based on the 'Environment' column\n",
    "df_sorted = df.sort_values('Environment')\n",
    "\n",
    "# Display the sorted dataframe\n",
    "print(df_sorted)"
   ]
  }
 ],
 "metadata": {
  "kernelspec": {
   "display_name": "base",
   "language": "python",
   "name": "python3"
  },
  "language_info": {
   "codemirror_mode": {
    "name": "ipython",
    "version": 3
   },
   "file_extension": ".py",
   "mimetype": "text/x-python",
   "name": "python",
   "nbconvert_exporter": "python",
   "pygments_lexer": "ipython3",
   "version": "3.9.13"
  },
  "orig_nbformat": 4
 },
 "nbformat": 4,
 "nbformat_minor": 2
}
