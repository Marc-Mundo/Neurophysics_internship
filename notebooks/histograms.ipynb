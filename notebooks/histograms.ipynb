{
 "cells": [
  {
   "attachments": {},
   "cell_type": "markdown",
   "id": "71022091",
   "metadata": {},
   "source": [
    "# Histograms"
   ]
  },
  {
   "attachments": {},
   "cell_type": "markdown",
   "id": "65b686bf",
   "metadata": {},
   "source": [
    "*Imports and data_folder access*"
   ]
  },
  {
   "cell_type": "code",
   "execution_count": 151,
   "id": "620a4583-d8b0-433d-99c1-26878a9b8f11",
   "metadata": {},
   "outputs": [],
   "source": [
    "import pickle\n",
    "import numpy as np\n",
    "from pathlib import Path\n",
    "import glob\n",
    "import pandas as pd\n",
    "import matplotlib.pyplot as plt\n",
    "\n",
    "# switch the path to represent the correct directory when switching devices and fetch the latest repo from github\n",
    "# Marc_PC\n",
    "data_folder_1 = Path(r\"C:\\Users\\marc_\\OneDrive\\Documents\\Studie\\Master\\Master Internship 1 Neurophysics\\Project-collective-cortical-dynamics-with-non-linear-dimensionality-reduction\\data\")\n",
    "data_folder_2 = Path(r\"Z:\\davide\\2p_data\\441394_ribolla\")\n",
    "data_folder_3 = Path(r\"Z:\\davide\\2p_data\\441406_fiano\")\n",
    "\n",
    "# Amber_laptop\n",
    "#data_folder_1 = Path(r\"C:\\Users\\renek\\OneDrive\\Documenten\\Marc Studiemap\\Master Internship 1\\Project-collective-cortical-dynamics-with-non-linear-dimensionality-reduction\\data\")\n",
    "#data_folder_2 = Path(r\"Z:\\davide\\2p_data\\441394_ribolla\")\n",
    "#data_folder_3 = Path(r\"Z:\\davide\\2p_data\\441406_fiano\")"
   ]
  },
  {
   "cell_type": "code",
   "execution_count": 152,
   "id": "8bd0cd9b-205d-4383-9488-db6ef940d781",
   "metadata": {},
   "outputs": [],
   "source": [
    "# Path to where the data is on your machine.\n",
    "data_path_1 = data_folder_1.joinpath('20230211')\n",
    "\n",
    "# ribolla files\n",
    "data_path_2 = data_folder_2.joinpath('20230315')\n",
    "data_path_3 = data_folder_2.joinpath('20230324')\n",
    "data_path_4 = data_folder_2.joinpath('20230331')\n",
    "data_path_5 = data_folder_2.joinpath('20230404')\n",
    "data_path_6 = data_folder_2.joinpath('20230405')\n",
    "\n",
    "# fiano files\n",
    "data_path_7 = data_folder_3.joinpath('20230309')\n",
    "data_path_8 = data_folder_3.joinpath('20230317')\n",
    "data_path_9 = data_folder_3.joinpath('20230323')\n",
    "data_path_10 = data_folder_3.joinpath('20230328')\n",
    "data_path_11 = data_folder_3.joinpath('20230331')\n",
    "\n",
    "# Create a list to store all the data paths\n",
    "all_data_paths = [\n",
    "    data_path_1,\n",
    "    data_path_2,\n",
    "    data_path_3,\n",
    "    data_path_4,\n",
    "    data_path_5,\n",
    "    data_path_6,\n",
    "    data_path_7,\n",
    "    data_path_8,\n",
    "    data_path_9,\n",
    "    data_path_10,\n",
    "    data_path_11\n",
    "]"
   ]
  },
  {
   "cell_type": "code",
   "execution_count": 153,
   "id": "1e6d0a18-38cc-4986-898d-29b631654dcd",
   "metadata": {
    "tags": []
   },
   "outputs": [
    {
     "data": {
      "text/plain": [
       "['Z:\\\\davide\\\\2p_data\\\\441406_fiano\\\\20230331\\\\behaviour_data.pickle',\n",
       " 'Z:\\\\davide\\\\2p_data\\\\441406_fiano\\\\20230331\\\\cnmf.hdf5',\n",
       " 'Z:\\\\davide\\\\2p_data\\\\441406_fiano\\\\20230331\\\\decoded_log.mat',\n",
       " 'Z:\\\\davide\\\\2p_data\\\\441406_fiano\\\\20230331\\\\metrics.pickle',\n",
       " 'Z:\\\\davide\\\\2p_data\\\\441406_fiano\\\\20230331\\\\neural_data.pickle',\n",
       " 'Z:\\\\davide\\\\2p_data\\\\441406_fiano\\\\20230331\\\\parameters.yml',\n",
       " 'Z:\\\\davide\\\\2p_data\\\\441406_fiano\\\\20230331\\\\tif_header.pickle',\n",
       " 'Z:\\\\davide\\\\2p_data\\\\441406_fiano\\\\20230331\\\\trial_data.csv']"
      ]
     },
     "execution_count": 153,
     "metadata": {},
     "output_type": "execute_result"
    }
   ],
   "source": [
    "import sys\n",
    "sys.path.append('../src') # Add src folder to path.\n",
    "import file_management as fm # Import my file_management functions from /src.\n",
    "\n",
    "selected_data_session = all_data_paths[1] # select one of the sessions! 0-10\n",
    "fm.get_files_in_data_path(selected_data_session)"
   ]
  },
  {
   "cell_type": "code",
   "execution_count": 154,
   "id": "b9958c1b",
   "metadata": {},
   "outputs": [
    {
     "data": {
      "text/plain": [
       "WindowsPath('Z:/davide/2p_data/441406_fiano/20230331')"
      ]
     },
     "execution_count": 154,
     "metadata": {},
     "output_type": "execute_result"
    }
   ],
   "source": [
    "selected_data_session"
   ]
  },
  {
   "cell_type": "code",
   "execution_count": 155,
   "id": "86827d7c",
   "metadata": {},
   "outputs": [
    {
     "name": "stdout",
     "output_type": "stream",
     "text": [
      "['behaviour_data.pickle', 'cnmf.hdf5', 'decoded_log.mat', 'metrics.pickle', 'neural_data.pickle', 'parameters.yml', 'tif_header.pickle', 'trial_data.csv']\n"
     ]
    }
   ],
   "source": [
    "import os\n",
    "\n",
    "# List all the files in the selected data session\n",
    "files = os.listdir(selected_data_session)\n",
    "print(files)"
   ]
  },
  {
   "attachments": {},
   "cell_type": "markdown",
   "id": "048b6266",
   "metadata": {},
   "source": [
    "*Trial Matrix*"
   ]
  },
  {
   "cell_type": "code",
   "execution_count": 156,
   "id": "26fe7ebb-cc5d-4453-ae7c-d4c5b77aaae8",
   "metadata": {},
   "outputs": [],
   "source": [
    "# Update the trial_data_file and read the CSV file (accessing a specific file within the selected data session)\n",
    "trial_data_file = selected_data_session.joinpath('trial_data.csv')\n",
    "trial_data = pd.read_csv(trial_data_file)\n",
    "#trial_data"
   ]
  },
  {
   "attachments": {},
   "cell_type": "markdown",
   "id": "b4576a2d",
   "metadata": {},
   "source": [
    "*Behavioural Data*"
   ]
  },
  {
   "cell_type": "code",
   "execution_count": 157,
   "id": "e61309ca-3890-431c-9fe1-0a58889d7e54",
   "metadata": {},
   "outputs": [],
   "source": [
    "# Load behavioural data.\n",
    "bdata_file = selected_data_session.joinpath('behaviour_data.pickle')\n",
    "with open(bdata_file,'rb') as file:\n",
    "    b_data = pickle.load(file)"
   ]
  },
  {
   "cell_type": "code",
   "execution_count": 158,
   "id": "f631042e",
   "metadata": {},
   "outputs": [
    {
     "name": "stdout",
     "output_type": "stream",
     "text": [
      "0: 1259\n",
      "1: 2354\n",
      "2: 2101\n",
      "3: 2097\n",
      "4: 2223\n",
      "5: 2177\n",
      "6: 2201\n",
      "7: 2053\n",
      "8: 2149\n",
      "9: 2149\n",
      "10: 2251\n",
      "11: 2098\n",
      "12: 2152\n",
      "13: 2205\n",
      "14: 2246\n",
      "15: 2450\n",
      "16: 2447\n",
      "17: 2204\n",
      "18: 2349\n",
      "19: 2390\n",
      "20: 2449\n",
      "21: 2551\n",
      "22: 2306\n",
      "23: 2297\n",
      "24: 2505\n",
      "25: 2498\n"
     ]
    }
   ],
   "source": [
    "position = b_data['position']\n",
    "pos_list = []\n",
    "for i in range(len(trial_data)):\n",
    "    row = trial_data.iloc[i]\n",
    "    onset = row['env_onset'].astype(int)\n",
    "    offset = row['tunnel2_offset']\n",
    "\n",
    "    pos_segment = position[onset:offset]\n",
    "    print(f'{i}: {np.max(pos_segment)-np.min(pos_segment)}')\n",
    "    # normalize\n",
    "    pos_segment = (pos_segment - np.min(pos_segment))/(np.max(pos_segment)-np.min(pos_segment))\n",
    "    pos_list.append(pos_segment)"
   ]
  },
  {
   "attachments": {},
   "cell_type": "markdown",
   "id": "2b7c0d6c",
   "metadata": {},
   "source": [
    "# Goal 2: position of mice during events, normalized position, histogram of positions of whole session\n",
    "1. extract the position timecourse in the environment of each trial (betwen env_onset and tunnel1_onset).\n",
    "2. normalize the position between 0 and 1: norm_pos = (pos-min(pos))/(max(pos)-min(pos))\n",
    "3. concatenate all trial positions together compute the histogram of positions across the whole session\n",
    "4. numpy histogram function\n",
    "\n",
    "This will tell us if there is a tendency from the animal to prefer parts of the environment, and will be useful down the line when we compute place cells"
   ]
  },
  {
   "attachments": {},
   "cell_type": "markdown",
   "id": "9586b155",
   "metadata": {},
   "source": [
    "# Histogram: edges & centers\n",
    "- Edges: The edges represent the boundaries of each bin in the histogram. These boundaries determine the range of data values that are included in each bin. By default, the edges are defined so that each bin has the same width, but you can also specify custom bin sizes if needed.\n",
    "- Centers: The centers represent the midpoint of each bin in the histogram. They are commonly used to label the x-axis of the histogram, and can provide additional insight into the distribution of the data."
   ]
  },
  {
   "cell_type": "code",
   "execution_count": 159,
   "id": "e4620fa1",
   "metadata": {},
   "outputs": [
    {
     "data": {
      "text/plain": [
       "<BarContainer object of 10 artists>"
      ]
     },
     "execution_count": 159,
     "metadata": {},
     "output_type": "execute_result"
    },
    {
     "data": {
      "image/png": "[encoded data removed]",
      "text/plain": [
       "<Figure size 640x480 with 1 Axes>"
      ]
     },
     "metadata": {},
     "output_type": "display_data"
    }
   ],
   "source": [
    "values,edges = np.histogram(pos_list[0])\n",
    "centers = [(edges[i+1]+edges[i])/2 for i in range(len(edges)-1)]\n",
    "\n",
    "plt.bar(centers,values,width=0.1)"
   ]
  },
  {
   "cell_type": "code",
   "execution_count": 160,
   "id": "790573fa",
   "metadata": {},
   "outputs": [
    {
     "data": {
      "image/png": "[encoded data removed]",
      "text/plain": [
       "<Figure size 640x480 with 1 Axes>"
      ]
     },
     "metadata": {},
     "output_type": "display_data"
    }
   ],
   "source": [
    "plt.hist(pos_list[5]);"
   ]
  },
  {
   "attachments": {},
   "cell_type": "markdown",
   "id": "96846338",
   "metadata": {},
   "source": [
    "# Plotting events with normalised position\n",
    "goal 1:\n",
    "- isolate the reward presentation for each trial. Find the number of licks that happened between the reward presentation and two seconds (2000 frames) after.\n",
    "- use eventplot to plot the licks for each trial on the same plot (x axis: time, y axis: trial)\n",
    "- This will tell us if there is a change in licking patterns during the course of the trial\n",
    "\n",
    "see session_outlook.ipynb for the plot\n",
    "\n",
    "goal 2:\n",
    "- extract the poistion timecourse in the environment of each trial (betwen env_onset and tunnel1_onset).\n",
    "- normalize the position between 0 and 1: norm_pos = (pos-min(pos))/(max(pos)-min(pos))\n",
    "- concatenate all trial positions together compute the histogram of positions across the whole session\n",
    "This will tell us if there is a tendency from the animal to prefer parts of the environment, and will be useful down the line when we compute place cells"
   ]
  },
  {
   "cell_type": "code",
   "execution_count": 161,
   "id": "5e80728f",
   "metadata": {},
   "outputs": [],
   "source": [
    "import sys\n",
    "sys.path.append('../src') # Add src folder to path.\n",
    "\n",
    "import histogram_analysis as ha # Import my analysis functions from /src."
   ]
  },
  {
   "cell_type": "code",
   "execution_count": 162,
   "id": "b738aaa5",
   "metadata": {},
   "outputs": [],
   "source": [
    "#plt.figure(figsize=(10,5))\n",
    "#plt.plot(norm_pos)"
   ]
  },
  {
   "cell_type": "code",
   "execution_count": 163,
   "id": "7c09da38-51bc-49ea-9239-0da0789996e5",
   "metadata": {},
   "outputs": [
    {
     "name": "stdout",
     "output_type": "stream",
     "text": [
      "time with shape: (1707552,)\n",
      "position with shape: (1707552,)\n",
      "lick_onsets with shape: (1515,)\n",
      "lick_offsets with shape: (1515,)\n",
      "reward_onsets with shape: (26,)\n",
      "reward_offsets with shape: (26,)\n"
     ]
    }
   ],
   "source": [
    "# Insight into what the behavioural data contains.\n",
    "for k in b_data.keys():\n",
    "    print(f'{k} with shape: {b_data[k].shape}')"
   ]
  },
  {
   "cell_type": "code",
   "execution_count": 164,
   "id": "fe84d57e",
   "metadata": {},
   "outputs": [],
   "source": [
    "#b_data['lick_offsets'][:-1]-b_data['lick_onsets']"
   ]
  },
  {
   "attachments": {},
   "cell_type": "markdown",
   "id": "9be9ca5e",
   "metadata": {},
   "source": [
    "# Position histogram with events\n",
    "Verticle lines: reward zone onset, tunnel1 onset, sound onset."
   ]
  },
  {
   "cell_type": "code",
   "execution_count": 165,
   "id": "a00ac0b9",
   "metadata": {},
   "outputs": [
    {
     "data": {
      "image/png": "[encoded data removed]",
      "text/plain": [
       "<Figure size 640x480 with 1 Axes>"
      ]
     },
     "metadata": {},
     "output_type": "display_data"
    }
   ],
   "source": [
    "save_folder = output_folder = Path('./imgs') \n",
    "# Calling the histogram with the function.\n",
    "ha.position_event_histogram(b_data, trial_data, selected_data_session, save_folder)"
   ]
  }
 ],
 "metadata": {
  "kernelspec": {
   "display_name": "base",
   "language": "python",
   "name": "python3"
  },
  "language_info": {
   "codemirror_mode": {
    "name": "ipython",
    "version": 3
   },
   "file_extension": ".py",
   "mimetype": "text/x-python",
   "name": "python",
   "nbconvert_exporter": "python",
   "pygments_lexer": "ipython3",
   "version": "3.9.13"
  },
  "vscode": {
   "interpreter": {
    "hash": "1dbcccb42249cdf2530770c93de837603865504641f1a37d8fbb6967c90805bd"
   }
  }
 },
 "nbformat": 4,
 "nbformat_minor": 5
}
